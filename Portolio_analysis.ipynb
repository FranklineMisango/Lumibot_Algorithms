{
  "cells": [
    {
      "cell_type": "markdown",
      "metadata": {
        "id": "o7h6PRNvYWKI"
      },
      "source": [
        "# Alpaca-py stock trading basic"
      ]
    },
    {
      "cell_type": "markdown",
      "metadata": {
        "id": "01HmI9EeYWKK"
      },
      "source": [
        "[![Open In Colab](https://colab.research.google.com/assets/colab-badge.svg)](https://colab.research.google.com/github/alpacahq/alpaca-py/blob/master/examples/stocks-trading-basic.ipynb)"
      ]
    },
    {
      "cell_type": "markdown",
      "metadata": {
        "id": "hwG1OwU9YWKK"
      },
      "source": [
        "- This notebook shows how to use alpaca-py with stock trading API endpoints\n",
        "- Please use ``paper account``. Please ``DO NOT`` use this notebook with live account. In this notebook, we place orders for stocks as an example."
      ]
    },
    {
      "cell_type": "code",
      "execution_count": 1,
      "metadata": {
        "id": "gDDc7t_QYWKL"
      },
      "outputs": [],
      "source": [
        "import json\n",
        "from datetime import datetime, timedelta\n",
        "from zoneinfo import ZoneInfo\n",
        "import os\n",
        "import sys\n",
        "from dotenv import load_dotenv\n",
        "load_dotenv()\n",
        "import alpaca\n",
        "from alpaca.trading.client import TradingClient\n",
        "from alpaca.data.timeframe import TimeFrame, TimeFrameUnit\n",
        "from alpaca.data.historical.stock import StockHistoricalDataClient\n",
        "from alpaca.trading.stream import TradingStream\n",
        "from alpaca.data.live.stock import StockDataStream\n",
        "\n",
        "from alpaca.data.requests import (\n",
        "    StockBarsRequest,\n",
        "    StockTradesRequest,\n",
        "    StockQuotesRequest\n",
        ")\n",
        "from alpaca.trading.requests import (\n",
        "    GetAssetsRequest, \n",
        "    MarketOrderRequest, \n",
        "    LimitOrderRequest, \n",
        "    StopOrderRequest, \n",
        "    StopLimitOrderRequest, \n",
        "    TakeProfitRequest, \n",
        "    StopLossRequest, \n",
        "    TrailingStopOrderRequest, \n",
        "    GetOrdersRequest, \n",
        "    ClosePositionRequest\n",
        ")\n",
        "from alpaca.trading.enums import ( \n",
        "    AssetStatus, \n",
        "    AssetExchange, \n",
        "    OrderSide, \n",
        "    OrderType, \n",
        "    TimeInForce, \n",
        "    OrderClass, \n",
        "    QueryOrderStatus\n",
        ")\n",
        "from alpaca.common.exceptions import APIError"
      ]
    },
    {
      "cell_type": "code",
      "execution_count": null,
      "metadata": {},
      "outputs": [],
      "source": [
        "api_key = os.environ.get(\"APCA_API_KEY_ID\")\n",
        "secret_key = os.environ.get(\"APCA_API_SECRET_KEY\") \n",
        "\n",
        "#### We use paper environment for this example ####\n",
        "paper = True # Please do not modify this. This example is for paper trading only.\n",
        "####\n",
        "\n",
        "# Below are the variables for development this documents\n",
        "# Please do not change these variables\n",
        "trade_api_url = None\n",
        "trade_api_wss = None\n",
        "data_api_url = None\n",
        "stream_data_wss = None\n",
        "\n",
        "\n",
        "'''\n",
        "curl -X GET \\\n",
        "    -H \"APCA-API-KEY-ID: {YOUR_API_KEY_ID}\"  \n",
        "    -H \"APCA-API-SECRET-KEY: {YOUR_API_SECRET_KEY}\"  \n",
        "    https://{apiserver_domain}/v2/account\n",
        "'''\n"
      ]
    },
    {
      "cell_type": "code",
      "execution_count": 3,
      "metadata": {
        "id": "MEd3kn3ZYWKP"
      },
      "outputs": [],
      "source": [
        "# to run async code in jupyter notebook\n",
        "import nest_asyncio\n",
        "nest_asyncio.apply()"
      ]
    },
    {
      "cell_type": "code",
      "execution_count": null,
      "metadata": {
        "id": "jnwe-pmvYWKP"
      },
      "outputs": [],
      "source": [
        "# check version of alpaca-py\n",
        "alpaca.__version__"
      ]
    },
    {
      "cell_type": "markdown",
      "metadata": {
        "id": "_Pyw4dlgYWKQ"
      },
      "source": [
        "# Trading Client"
      ]
    },
    {
      "cell_type": "code",
      "execution_count": 5,
      "metadata": {
        "id": "t9Bb3i6jYWKQ"
      },
      "outputs": [],
      "source": [
        "# setup clients\n",
        "trade_client = TradingClient(api_key=api_key, secret_key=secret_key, paper=paper, url_override=trade_api_url)"
      ]
    },
    {
      "cell_type": "code",
      "execution_count": null,
      "metadata": {
        "id": "fFlbMvdXYWKR"
      },
      "outputs": [],
      "source": [
        "# check trading account\n",
        "# You can check definition of each field in the following documents\n",
        "# ref. https://docs.alpaca.markets/docs/account-plans\n",
        "# ref. https://docs.alpaca.markets/reference/getaccount-1\n",
        "acct = trade_client.get_account()\n",
        "acct"
      ]
    },
    {
      "cell_type": "code",
      "execution_count": null,
      "metadata": {
        "id": "PXWhBMcDYWKS"
      },
      "outputs": [],
      "source": [
        "# check account configuration\n",
        "# ref. https://docs.alpaca.markets/reference/getaccountconfig-1\n",
        "acct_config = trade_client.get_account_configurations()\n",
        "acct_config"
      ]
    },
    {
      "cell_type": "code",
      "execution_count": null,
      "metadata": {
        "id": "NSiPXfIKYWKS"
      },
      "outputs": [],
      "source": [
        "# set account configuration\n",
        "# ref. https://docs.alpaca.markets/reference/patchaccountconfig-1\n",
        "req = acct_config\n",
        "req.fractional_trading = not req.fractional_trading # toggle fractional trading\n",
        "acct_config_new = trade_client.set_account_configurations(req)\n",
        "display(acct_config_new)\n",
        "\n",
        "# revert changes\n",
        "req = acct_config_new\n",
        "req.fractional_trading = not req.fractional_trading # toggle fractional trading\n",
        "acct_config_reverted = trade_client.set_account_configurations(req)\n",
        "display(acct_config_reverted)"
      ]
    },
    {
      "cell_type": "code",
      "execution_count": null,
      "metadata": {
        "id": "vk3bbr0HYWKS"
      },
      "outputs": [],
      "source": [
        "# get list of assets which are us_equity (default), active, and in NASDAQ\n",
        "# ref. https://docs.alpaca.markets/reference/get-v2-assets-1\n",
        "req = GetAssetsRequest(\n",
        "  # asset_class=AssetClass.US_EQUITY,  # default asset_class is us_equity\n",
        "  status=AssetStatus.ACTIVE,\n",
        "  exchange=AssetExchange.NASDAQ,\n",
        ")\n",
        "assets = trade_client.get_all_assets(req)\n",
        "assets[:2]"
      ]
    },
    {
      "cell_type": "markdown",
      "metadata": {
        "id": "SyWH58FHYWKT"
      },
      "source": [
        "### Orders"
      ]
    },
    {
      "cell_type": "markdown",
      "metadata": {
        "id": "sYVkohT0YWKY"
      },
      "source": [
        "### Positions"
      ]
    },
    {
      "cell_type": "code",
      "execution_count": null,
      "metadata": {
        "id": "3OAZsZEUYWKY"
      },
      "outputs": [],
      "source": [
        "# get all open positions\n",
        "# ref. https://docs.alpaca.markets/reference/getallopenpositions-1\n",
        "positions = trade_client.get_all_positions()\n",
        "positions"
      ]
    },
    {
      "cell_type": "code",
      "execution_count": null,
      "metadata": {},
      "outputs": [],
      "source": [
        "#Check my equity balance\n",
        "equity = int(float(trade_client.get_account().equity))\n",
        "buying_power = int(float(trade_client.get_account().buying_power))\n",
        "Short_amount = equity * 0.45\n",
        "long_amount = equity  - Short_amount\n",
        "\n",
        "print(f\"equity: {equity}\")\n",
        "print(f\"Buying Power : {buying_power}\")\n",
        "print(f\"Short_amount: {Short_amount}\")\n",
        "print(f\"long_amount: {long_amount}\")"
      ]
    },
    {
      "cell_type": "markdown",
      "metadata": {
        "id": "ctuH_WpFYWKZ"
      },
      "source": [
        "# Trade Update (Stream)"
      ]
    },
    {
      "cell_type": "markdown",
      "metadata": {
        "id": "IJFEy6XOYWKZ"
      },
      "source": [
        "With TradingStream client, you can get updates about trades\n",
        "\n",
        "You can open this notebook in another window and run below cell to check trade updates."
      ]
    },
    {
      "cell_type": "code",
      "execution_count": null,
      "metadata": {
        "id": "qnCVpEH0YWKZ"
      },
      "outputs": [],
      "source": [
        "# subscribe trade updates\n",
        "trade_stream_client = TradingStream(api_key, secret_key, paper=paper, url_override = trade_api_wss)\n",
        "\n",
        "async def trade_updates_handler(data):\n",
        "    print(data)\n",
        "\n",
        "trade_stream_client.subscribe_trade_updates(trade_updates_handler)\n",
        "trade_stream_client.run()"
      ]
    }
  ],
  "metadata": {
    "colab": {
      "provenance": []
    },
    "kernelspec": {
      "display_name": ".venv",
      "language": "python",
      "name": "python3"
    },
    "language_info": {
      "codemirror_mode": {
        "name": "ipython",
        "version": 3
      },
      "file_extension": ".py",
      "mimetype": "text/x-python",
      "name": "python",
      "nbconvert_exporter": "python",
      "pygments_lexer": "ipython3",
      "version": "3.12.4"
    }
  },
  "nbformat": 4,
  "nbformat_minor": 0
}
